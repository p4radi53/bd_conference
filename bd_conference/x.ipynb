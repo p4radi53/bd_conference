{
 "cells": [
  {
   "cell_type": "code",
   "execution_count": 3,
   "metadata": {},
   "outputs": [],
   "source": [
    "from pyspark.sql import SparkSession\n",
    "from pyspark.sql import functions as f\n",
    "import pandas as pd\n",
    "\n",
    "spark = SparkSession.builder.appName(\"stream\").getOrCreate()  # type: ignore\n",
    "\n",
    "employment_src_path = \"data/employment.csv\""
   ]
  },
  {
   "cell_type": "code",
   "execution_count": null,
   "metadata": {},
   "outputs": [],
   "source": [
    "df = (\n",
    "    spark.read.csv(\n",
    "        employment_src_path,\n",
    "        header=True,\n",
    "        inferSchema=True,\n",
    "    )\n",
    "    .withColumn(\"period_year\", f.year(f.to_date(\"Period\", \"yyyy.MM\")))\n",
    "    .filter(f.col(\"period_year\").isin([2013, 2014]))\n",
    "    .groupBy(f.col(\"period_year\"))\n",
    "    .agg(f.sum(\"Data_value\").alias(\"employed\"))\n",
    ")\n",
    "\n",
    "df.show()"
   ]
  },
  {
   "cell_type": "code",
   "execution_count": 31,
   "metadata": {},
   "outputs": [
    {
     "name": "stdout",
     "output_type": "stream",
     "text": [
      "+-----------+-------------------+\n",
      "|period_year|           employed|\n",
      "+-----------+-------------------+\n",
      "|       2013|7.898903575750296E7|\n",
      "|       2014|8.104320780059406E7|\n",
      "+-----------+-------------------+\n",
      "\n"
     ]
    }
   ],
   "source": [
    "employment = spark.read.csv(\n",
    "    employment_src_path,\n",
    "    header=True,\n",
    "    inferSchema=True,\n",
    ")\n",
    "employment_with_year = employment.withColumn(\n",
    "    \"period_year\", f.year(f.to_date(\"Period\", \"yyyy.MM\"))\n",
    ")\n",
    "employment_with_year_filtered = employment_with_year.filter(\n",
    "    f.col(\"period_year\").isin([2013, 2014])\n",
    ")\n",
    "employment_per_year = employment_with_year_filtered.groupBy(f.col(\"period_year\")).agg(\n",
    "    f.sum(\"Data_value\").alias(\"employed\")\n",
    ")\n",
    "\n",
    "employment_per_year.show()"
   ]
  },
  {
   "cell_type": "code",
   "execution_count": 29,
   "metadata": {},
   "outputs": [
    {
     "name": "stdout",
     "output_type": "stream",
     "text": [
      "   period_year      employed\n",
      "0         2013  7.898904e+07\n",
      "1         2014  8.104321e+07\n"
     ]
    }
   ],
   "source": [
    "df = pd.read_csv(employment_src_path)\n",
    "df[\"period_year\"] = df[\"Period\"].astype(str).str.split(\".\").str[0].astype(int)\n",
    "df = df[df[\"period_year\"].isin([2013, 2014])]\n",
    "df = df.groupby(\"period_year\").agg({\"Data_value\": \"sum\"}).reset_index()\n",
    "df.columns = [\"period_year\", \"employed\"]\n",
    "\n",
    "df.head()"
   ]
  },
  {
   "cell_type": "code",
   "execution_count": null,
   "metadata": {},
   "outputs": [],
   "source": []
  }
 ],
 "metadata": {
  "kernelspec": {
   "display_name": ".venv",
   "language": "python",
   "name": "python3"
  },
  "language_info": {
   "codemirror_mode": {
    "name": "ipython",
    "version": 3
   },
   "file_extension": ".py",
   "mimetype": "text/x-python",
   "name": "python",
   "nbconvert_exporter": "python",
   "pygments_lexer": "ipython3",
   "version": "3.10.6"
  },
  "orig_nbformat": 4
 },
 "nbformat": 4,
 "nbformat_minor": 2
}
